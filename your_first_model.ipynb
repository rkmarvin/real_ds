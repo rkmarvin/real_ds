{
 "cells": [
  {
   "cell_type": "markdown",
   "metadata": {},
   "source": [
    "# Загрузка Pandas и очистка данных"
   ]
  },
  {
   "cell_type": "code",
   "execution_count": 1,
   "metadata": {},
   "outputs": [],
   "source": [
    "import pandas as pd"
   ]
  },
  {
   "cell_type": "code",
   "execution_count": 2,
   "metadata": {},
   "outputs": [],
   "source": [
    "df = pd.read_csv('main_task.csv')"
   ]
  },
  {
   "cell_type": "code",
   "execution_count": 3,
   "metadata": {},
   "outputs": [],
   "source": [
    "cities = {c: i for i, c in enumerate(df.City.value_counts().index.tolist())}\n",
    "df['CityID'] = df.City.apply(lambda x: cities[x])\n",
    "\n",
    "df['Number of Reviews'] = df['Number of Reviews'].fillna(df['Number of Reviews'].median())"
   ]
  },
  {
   "cell_type": "code",
   "execution_count": 4,
   "metadata": {},
   "outputs": [],
   "source": [
    "df['Cuisine Style'] = df['Cuisine Style'].fillna(\"[]\")\n",
    "import json\n",
    "def extract_cs(cs):\n",
    "    csl = cs[1:-1].replace('\\'', '').split(',')\n",
    "    return len(list(map(lambda x: x.strip(), csl)))\n",
    "\n",
    "df['cousines_count'] = df['Cuisine Style'].apply(extract_cs)"
   ]
  },
  {
   "cell_type": "code",
   "execution_count": 5,
   "metadata": {},
   "outputs": [],
   "source": [
    "all_cuisines = set()\n",
    "df['Cuisine Style'] = df['Cuisine Style'].fillna(\"[]\")\n",
    "for row in df['Cuisine Style'].values:\n",
    "    cuisines = list(map(lambda x: x.strip(), row[1:-1].replace('\\'', '').split(',')))\n",
    "    list(map(all_cuisines.add, cuisines))\n",
    "    \n",
    "    \n",
    "def has_cuisine(cuisines, target):\n",
    "    return 1 if target in cuisines else 0\n",
    "    \n",
    "    \n",
    "for cuisine in all_cuisines:\n",
    "    if not cuisine:\n",
    "        continue\n",
    "    df[cuisine] = df['Cuisine Style'].apply(lambda x: has_cuisine(x, cuisine))"
   ]
  },
  {
   "cell_type": "code",
   "execution_count": 6,
   "metadata": {},
   "outputs": [],
   "source": [
    "capitals = pd.read_csv('capitals.csv')\n",
    "capitals.head()\n",
    "capitals_set = capitals.capital.str.lower().unique()\n",
    "\n",
    "def is_capital(city):\n",
    "    return city.lower() in capitals_set\n",
    "\n",
    "df['capital'] = df.City.apply(lambda x: 1 if is_capital(x) else 0)"
   ]
  },
  {
   "cell_type": "code",
   "execution_count": 7,
   "metadata": {},
   "outputs": [],
   "source": [
    "import json\n",
    "df.Reviews = df.Reviews.fillna('[[], []]')\n",
    "\n",
    "def extract_days_count(x):\n",
    "    data = x.split('], [')[-1][1:-3].split('\\', \\'')\n",
    "    if not all(data):\n",
    "        return 0\n",
    "    try:\n",
    "        d1 = pd.to_datetime(data[0], format='%m/%d/%Y')\n",
    "        d2 = pd.to_datetime(data[1], format='%m/%d/%Y')\n",
    "        result = (d1 - d2).days\n",
    "    except IndexError:\n",
    "        result = 0\n",
    "    return result"
   ]
  },
  {
   "cell_type": "code",
   "execution_count": 14,
   "metadata": {},
   "outputs": [],
   "source": [
    "# def map_price(x):\n",
    "#     if x == '$$ - $$$':\n",
    "#         return 1\n",
    "#     if x == '$': \n",
    "#         return 2\n",
    "#     if x == '$$$$':\n",
    "#         return 3\n",
    "#     return 0\n",
    "\n",
    "# df['Price Range'] = df['Price Range'].fillna('$$ - $$$')\n",
    "# df['price_map'] = df['Price Range'].apply(map_price)"
   ]
  },
  {
   "cell_type": "code",
   "execution_count": 8,
   "metadata": {},
   "outputs": [],
   "source": [
    "df = df.drop(['City', 'Reviews', 'URL_TA', 'ID_TA', 'Price Range', 'Cuisine Style'], axis=1)"
   ]
  },
  {
   "cell_type": "markdown",
   "metadata": {},
   "source": [
    "# Разбиваем датафрейм на части, необходимые для обучения и тестирования модели"
   ]
  },
  {
   "cell_type": "code",
   "execution_count": 9,
   "metadata": {},
   "outputs": [],
   "source": [
    "# Х - данные с информацией о ресторанах, у - целевая переменная (рейтинги ресторанов)\n",
    "X = df.drop(['Restaurant_id', 'Rating'], axis = 1)\n",
    "y = df['Rating']"
   ]
  },
  {
   "cell_type": "code",
   "execution_count": 10,
   "metadata": {},
   "outputs": [],
   "source": [
    "# Загружаем специальный инструмент для разбивки:\n",
    "from sklearn.model_selection import train_test_split"
   ]
  },
  {
   "cell_type": "code",
   "execution_count": 11,
   "metadata": {},
   "outputs": [],
   "source": [
    "# Наборы данных с меткой \"train\" будут использоваться для обучения модели, \"test\" - для тестирования.\n",
    "# Для тестирования мы будем использовать 25% от исходного датасета.\n",
    "X_train, X_test, y_train, y_test = train_test_split(X, y, test_size=0.25)"
   ]
  },
  {
   "cell_type": "markdown",
   "metadata": {},
   "source": [
    "# Создаём, обучаем и тестируем модель"
   ]
  },
  {
   "cell_type": "code",
   "execution_count": 12,
   "metadata": {},
   "outputs": [],
   "source": [
    "# Импортируем необходимые библиотеки:\n",
    "from sklearn.ensemble import RandomForestRegressor # инструмент для создания и обучения модели\n",
    "from sklearn import metrics # инструменты для оценки точности модели"
   ]
  },
  {
   "cell_type": "code",
   "execution_count": 13,
   "metadata": {},
   "outputs": [],
   "source": [
    "# Создаём модель\n",
    "regr = RandomForestRegressor(n_estimators=100)\n",
    "\n",
    "# Обучаем модель на тестовом наборе данных\n",
    "regr.fit(X_train, y_train)\n",
    "\n",
    "# Используем обученную модель для предсказания рейтинга ресторанов в тестовой выборке.\n",
    "# Предсказанные значения записываем в переменную y_pred\n",
    "y_pred = regr.predict(X_test)"
   ]
  },
  {
   "cell_type": "code",
   "execution_count": 14,
   "metadata": {},
   "outputs": [
    {
     "name": "stdout",
     "output_type": "stream",
     "text": [
      "MAE: 0.2114195\n"
     ]
    }
   ],
   "source": [
    "# Сравниваем предсказанные значения (y_pred) с реальными (y_test), и смотрим насколько они в среднем отличаются\n",
    "# Метрика называется Mean Absolute Error (MAE) и показывает среднее отклонение предсказанных значений от фактических.\n",
    "print('MAE:', metrics.mean_absolute_error(y_test, y_pred))"
   ]
  }
 ],
 "metadata": {
  "kernelspec": {
   "display_name": "Python 3",
   "language": "python",
   "name": "python3"
  },
  "language_info": {
   "codemirror_mode": {
    "name": "ipython",
    "version": 3
   },
   "file_extension": ".py",
   "mimetype": "text/x-python",
   "name": "python",
   "nbconvert_exporter": "python",
   "pygments_lexer": "ipython3",
   "version": "3.7.4"
  }
 },
 "nbformat": 4,
 "nbformat_minor": 2
}
